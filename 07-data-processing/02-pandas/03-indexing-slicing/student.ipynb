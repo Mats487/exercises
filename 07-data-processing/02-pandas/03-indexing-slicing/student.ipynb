{
 "cells": [
  {
   "cell_type": "code",
   "execution_count": 2,
   "metadata": {},
   "outputs": [
    {
     "name": "stdout",
     "output_type": "stream",
     "text": [
      "      Name  Age      City  Salary\n",
      "0    Alice   25    London   60000\n",
      "1      Bob   30  New York   75000\n",
      "2  Charlie   35     Paris   80000\n",
      "3    David   28     Paris   70000\n",
      "4     Emma   32    Sydney   65000\n"
     ]
    }
   ],
   "source": [
    "import pandas as pd\n",
    "\n",
    "data = {\n",
    "    'Name': ['Alice', 'Bob', 'Charlie', 'David', 'Emma'],\n",
    "    'Age': [25, 30, 35, 28, 32],\n",
    "    'City': ['London', 'New York', 'Paris', 'Paris', 'Sydney'],\n",
    "    'Salary': [60000, 75000, 80000, 70000, 65000]\n",
    "}\n",
    "\n",
    "employees = pd.DataFrame(data)\n",
    "print(employees)"
   ]
  },
  {
   "cell_type": "code",
   "execution_count": 26,
   "metadata": {},
   "outputs": [
    {
     "name": "stdout",
     "output_type": "stream",
     "text": [
      "    Name  Salary\n",
      "3  David   70000\n",
      "4   Emma   65000\n"
     ]
    }
   ],
   "source": [
    "label_positional_based = employees.loc[3:4, ['Name', 'Salary']]\n",
    "print(label_positional_based)"
   ]
  },
  {
   "cell_type": "code",
   "execution_count": 23,
   "metadata": {},
   "outputs": [
    {
     "name": "stdout",
     "output_type": "stream",
     "text": [
      "      Name  Age      City  Salary\n",
      "0    Alice   25    London   60000\n",
      "1      Bob   30  New York   75000\n",
      "2  Charlie   35     Paris   80000\n"
     ]
    }
   ],
   "source": [
    "integer_based = employees.iloc[0:3, :]\n",
    "print(integer_based)"
   ]
  },
  {
   "cell_type": "code",
   "execution_count": 25,
   "metadata": {},
   "outputs": [
    {
     "name": "stdout",
     "output_type": "stream",
     "text": [
      "      Name  Age      City  Salary\n",
      "1      Bob   30  New York   75000\n",
      "2  Charlie   35     Paris   80000\n",
      "4     Emma   32    Sydney   65000\n"
     ]
    }
   ],
   "source": [
    "age_filtered = employees[employees['Age'] >= 30]\n",
    "print(age_filtered)"
   ]
  }
 ],
 "metadata": {
  "kernelspec": {
   "display_name": "Python 3",
   "language": "python",
   "name": "python3"
  },
  "language_info": {
   "codemirror_mode": {
    "name": "ipython",
    "version": 3
   },
   "file_extension": ".py",
   "mimetype": "text/x-python",
   "name": "python",
   "nbconvert_exporter": "python",
   "pygments_lexer": "ipython3",
   "version": "3.11.5"
  }
 },
 "nbformat": 4,
 "nbformat_minor": 2
}
